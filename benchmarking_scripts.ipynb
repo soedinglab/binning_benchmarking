{
 "cells": [
  {
   "cell_type": "markdown",
   "metadata": {},
   "source": [
    "### Scripts used to run different metagenome binning tools"
   ]
  },
  {
   "cell_type": "code",
   "execution_count": null,
   "metadata": {
    "vscode": {
     "languageId": "shellscript"
    }
   },
   "outputs": [],
   "source": [
    "#!/bin/bash\n",
    "#SBATCH -J \"binning\"\n",
    "#SBATCH -p gpu\n",
    "#SBATCH -A scc\\_users\n",
    "#SBATCH -t 01-00:00:00\n",
    "#SBATCH -N 1\n",
    "#SBATCH -n 1\n",
    "#SBATCH -c 24\n",
    "#SBATCH -G 2\n",
    "#SBATCH --mem=128G\n",
    "\n",
    "DATAPATH=\"/scratch1/users/yazhini.a01/binning_benchmarking/strain_madness/megahit_assembly/pooled_assembly\"\n",
    "source ~/miniforge3/bin/activate\n",
    "\"/usr/bin/time -v vamb --outdir ${DATAPATH}/vamb\\_results --fasta ${DATAPATH}/single\\_pooled\\_final.contigs.fa --bamfiles ${DATAPATH}/bamfiles/*.bam -m 1000 --minfasta 200000 --cuda -p 24\"\n",
    "\n",
    "conda activate metabat2\\_env\n",
    "\"/usr/bin/time -v metabat2 -i ${DATAPATH}/sorted\\_pooled\\_final.contigs.fa -a ${DATAPATH}/abundances\\_gf\\_sorted.tsv -o ${DATAPATH}/metabat2\\_results/metabat2\\_results -t 24 -m 1500\"\n",
    "conda deactivate\n",
    "\n",
    "\n",
    "conda activate mcdevol\\_env\n",
    "\"/usr/bin/time -v /scratch1/users/yazhini.a01/binning\\_benchmarking/binning\\_tool/mcdevol/mcdevol.py -c ${DATAPATH}/sorted\\_pooled\\_final.contigs.fa -o ${DATAPATH}/mcdevol\\_results -a ${DATAPATH}/abundances\\_gf\\_sorted.tsv --abundformat metabat -n 24\"\n",
    "conda deactivate\n",
    "\n",
    "conda activate genomeface\\_env\n",
    "\"/usr/bin/time -v genomeface -i ${DATAPATH}/sorted\\_pooled\\_final.contigs.fa -o ${DATAPATH}/genomeface\\_results -a ${DATAPATH}/abundances\\_gf\\_sorted.tsv -g marker\\_hits -m 1000\"\n",
    "conda deactivate\n",
    "\n",
    "\n",
    "conda activate metawrap-env\n",
    "\"/usr/bin/time -v metawrap binning -o ${DATAPATH}/metawrap -t 24 -a ${DATAPATH}/sorted\\_pooled\\_final.contigs.fa --metabat2 --maxbin2 --concoct --interleaved /cbscratch/yazhini/binning\\_benchmarking/strain\\_madness/fastqfiles/coco\\_corrected/*.fastq\"\n",
    "\"/usr/bin/time -v metawrap bin\\_refinement -o ${DATAPATH}/metawrap/bin\\_refined -t 24 -A ${DATAPATH}/metawrap/metabat2\\_bins/ -B ${DATAPATH}/metawrap/maxbin2\\_bins/ -C ${DATAPATH}/metawrap/concoct\\_bins/ -c 50 -x 10\"\n",
    "conda deactivate\n",
    "\n",
    "\n",
    "module load anaconda3/2021.05\n",
    "conda activate comebin\\_env\n",
    "\"/usr/bin/time -v /scratch1/users/yazhini.a01/binning\\_benchmarking/COMEBin/bin/run\\_comebin.sh -a ${DATAPATH}/single\\_pooled\\_final.contigs.fa -o ${DATAPATH}/comebin\\_results -p ${DATAPATH}/bamfiles -t 24\"\n",
    "conda deactivate\n",
    "\n",
    "\n",
    "\n",
    "\n"
   ]
  }
 ],
 "metadata": {
  "language_info": {
   "name": "python"
  }
 },
 "nbformat": 4,
 "nbformat_minor": 2
}
