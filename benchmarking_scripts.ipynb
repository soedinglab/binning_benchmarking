{
 "cells": [
  {
   "cell_type": "markdown",
   "metadata": {},
   "source": [
    "### Scripts used to run different metagenome binning tools"
   ]
  },
  {
   "cell_type": "code",
   "execution_count": null,
   "metadata": {
    "vscode": {
     "languageId": "shellscript"
    }
   },
   "outputs": [],
   "source": [
    "#!/bin/bash\n",
    "#SBATCH -J \"binning\"\n",
    "#SBATCH -p gpu\n",
    "#SBATCH -A scc_users\n",
    "#SBATCH -t 01-00:00:00\n",
    "#SBATCH -N 1\n",
    "#SBATCH -n 1\n",
    "#SBATCH -c 24\n",
    "#SBATCH -G 2\n",
    "#SBATCH --mem=128G\n",
    "\n",
    "source ~/miniforge3/bin/activate\n",
    "\"/usr/bin/time -v vamb --outdir vamb_results --fasta single_pooled_final.contigs.fa --bamfiles bamfiles/*_sorted.bam -m 1000 --minfasta 200000 --cuda -p 24\"\n",
    "\n",
    "conda activate metabat2_env\n",
    "\"/usr/bin/time -v metabat2 -i sorted_pooled_final.contigs.fa -a abundances_gf_sorted.tsv -o metabat2_results/metabat2_results -t 24 -m 1500\"\n",
    "conda deactivate\n",
    "\n",
    "conda activate semibin_env\n",
    "\"/usr/bin/time -v SemiBin2 generate_sequence_features_single -i single_pooled_final.contigs.fa -b bamfiles/*_sorted.bam -o semibin2_results --min-len 1000 -p 24\"\n",
    "\n",
    "\"/usr/bin/time -v SemiBin2 train_self --data semibin2_results/data.csv --data-split semibin2_results/data_split.csv -o semibin2_results -p 24\"\n",
    "\n",
    "\"/usr/bin/time -v SemiBin2 bin_short -i single_pooled_final.contigs.fa --model semibin2_results/model.pt --data semibin2_results/data.csv -o semibin2_results/bins --minfasta-kbs 200 --min-len 1000 -p 24\"\n",
    "conda deactivate\n",
    "\n",
    "conda activate genomeface_env\n",
    "\"/usr/bin/time -v genomeface -i sorted_pooled_final.contigs.fa -o genomeface_results -a abundances_gf_sorted.tsv -g marker_hits -m 1000\"\n",
    "conda deactivate\n",
    "\n",
    "conda activate taxvamb_env\n",
    "\"/usr/bin/time -v vamb bin taxvamb --fasta sorted_pooled_final.contigs.fa --outdir taxvamb_results --bamfiles bamfiles/*_sorted.bam --taxonomy metabuli_results/taxonomy_result.tsv -m 1000 --minfasta 200000 --cuda -p 24\"\n",
    "\n",
    "\"/usr/bin/time -v vamb bin taxvamb --fasta sorted_pooled_final.contigs.fa --outdir taxvamb_results_notaxometer --bamfiles bamfiles/*_sorted.bam --taxonomy metabuli_results/taxonomy_result.tsv -m 1000 --minfasta 200000 --cuda -p 24 --no_predictor\"\n",
    "conda deactivate\n",
    "\n",
    "conda activate comebin_env\n",
    "\"/usr/bin/time -v run_comebin.sh -a single_pooled_final.contigs.fa -o comebin_results -p bamfiles -t 24\"\n",
    "conda deactivate\n",
    "\n",
    "\n",
    "\n",
    "\n"
   ]
  }
 ],
 "metadata": {
  "kernelspec": {
   "display_name": "work_env",
   "language": "python",
   "name": "python3"
  },
  "language_info": {
   "name": "python",
   "version": "3.12.3"
  }
 },
 "nbformat": 4,
 "nbformat_minor": 2
}
