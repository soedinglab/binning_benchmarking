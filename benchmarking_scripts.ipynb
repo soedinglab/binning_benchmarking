{
 "cells": [
  {
   "cell_type": "markdown",
   "metadata": {},
   "source": [
    "### Scripts used to run different metagenome binning tools"
   ]
  },
  {
   "cell_type": "code",
   "execution_count": null,
   "metadata": {
    "vscode": {
     "languageId": "shellscript"
    }
   },
   "outputs": [],
   "source": [
    "#!/bin/bash\n",
    "#SBATCH -J \"binning\"\n",
    "#SBATCH -p gpu\n",
    "#SBATCH -A scc_users\n",
    "#SBATCH -t 01-00:00:00\n",
    "#SBATCH -N 1\n",
    "#SBATCH -n 1\n",
    "#SBATCH -c 24\n",
    "#SBATCH -G 2\n",
    "#SBATCH --mem=128G\n",
    "\n",
    "source ~/miniforge3/bin/activate\n",
    "\"/usr/bin/time -v vamb --outdir vamb_results --fasta single_pooled_final.contigs.fa --bamfiles bamfiles/*.bam -m 1000 --minfasta 200000 --cuda -p 24\"\n",
    "\n",
    "conda activate metabat2_env\n",
    "\"/usr/bin/time -v metabat2 -i sorted_pooled_final.contigs.fa -a abundances_gf_sorted.tsv -o metabat2_results/metabat2_results -t 24 -m 1500\"\n",
    "conda deactivate\n",
    "\n",
    "\n",
    "conda activate mcdevol_env\n",
    "\"/usr/bin/time -v /scratch1/users/yazhini.a01/binning_benchmarking/binning_tool/mcdevol/mcdevol.py -c sorted_pooled_final.contigs.fa -o mcdevol_results -a abundances_gf_sorted.tsv --abundformat metabat -n 24\"\n",
    "conda deactivate\n",
    "\n",
    "conda activate genomeface_env\n",
    "\"/usr/bin/time -v genomeface -i sorted_pooled_final.contigs.fa -o genomeface_results -a abundances_gf_sorted.tsv -g marker_hits -m 1000\"\n",
    "conda deactivate\n",
    "\n",
    "\n",
    "conda activate metawrap-env\n",
    "\"/usr/bin/time -v metawrap binning -o metawrap -t 24 -a sorted_pooled_final.contigs.fa --metabat2 --maxbin2 --concoct --interleaved fastqfiles/coco_corrected/*.fastq\"\n",
    "\"/usr/bin/time -v metawrap bin_refinement -o metawrap/bin_refined -t 24 -A metawrap/metabat2_bins/ -B metawrap/maxbin2_bins/ -C metawrap/concoct_bins/ -c 50 -x 10\"\n",
    "conda deactivate\n",
    "\n",
    "\n",
    "module load anaconda3/2021.05\n",
    "conda activate comebin_env\n",
    "\"/usr/bin/time -v run_comebin.sh -a single_pooled_final.contigs.fa -o comebin_results -p bamfiles -t 24\"\n",
    "conda deactivate\n",
    "\n",
    "\n",
    "\n",
    "\n"
   ]
  }
 ],
 "metadata": {
  "kernelspec": {
   "display_name": "work_env",
   "language": "python",
   "name": "python3"
  },
  "language_info": {
   "name": "python",
   "version": "3.12.3"
  }
 },
 "nbformat": 4,
 "nbformat_minor": 2
}
