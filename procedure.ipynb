{
 "cells": [
  {
   "cell_type": "markdown",
   "metadata": {},
   "source": [
    "# Read correction\n",
    "\n",
    "Reads are corrected by CoCo (https://github.com/soedinglab/CoCo). The correction is efficitive if k-mer counts are computed from pooled reads from all samples.\n",
    "\n",
    "**Example with cami2 strain-madness dataset**\n",
    "\n",
    "`cat *_reads.fq > all_reads.fq`\n",
    "\n",
    "**Compute k-mer counts using dsk tool (https://github.com/GATB/dsk)**\n",
    "\n",
    "`dsk -file all_reads.fq -kmer-size 41` (output: all_reads.h5)\n",
    "\n",
    "**Correct reads using CoCo**\n",
    "\n",
    "`coco correction --reads all_reads.fq --counts all_reads.h5 --outdir allreads_coco_corrected` (output: all_reads.corr.reads.fq)\n",
    "\n",
    "**Split reads by sample origin**\n",
    "\n",
    "`awk '{if(NR%4==1) {sample=substr($1, 3, 1)} print $0 >> \"allreads_coco_corrected/\"sample\"_reads.corr.fq\"}' allreads_coco_corrected/all_reads.corr.reads.fq`\n"
   ]
  },
  {
   "cell_type": "markdown",
   "metadata": {
    "vscode": {
     "languageId": "plaintext"
    }
   },
   "source": [
    "# Post binning reassembly\n",
    "\n",
    "** Extract mapped reads for each bin **\n",
    "\n",
    "For combined read fastq and mapfile\n",
    "\n",
    "`extractreads fullpath/genomeface_results/ allsample_mapfile all_reads.corr.fq`\n",
    "\n",
    "For sample-wise processing, end extracted fastq file will have reads from all samples\n",
    "\n",
    "`for sample in samplelist; do extractreads fullpath/genomeface_results/ ${sample}_mapfile ${sample}_reads.corr.fq; done`\n"
   ]
  },
  {
   "cell_type": "markdown",
   "metadata": {},
   "source": []
  }
 ],
 "metadata": {
  "language_info": {
   "name": "python"
  }
 },
 "nbformat": 4,
 "nbformat_minor": 2
}
